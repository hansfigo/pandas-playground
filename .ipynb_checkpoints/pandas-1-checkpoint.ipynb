{
 "cells": [
  {
   "cell_type": "markdown",
   "id": "1520989c-4718-4603-830e-0771a5796c37",
   "metadata": {},
   "source": [
    "# Introduction to Pandas\n",
    "Pandas is python library to analyze and manipulate data. Its widely used in Data Cleaningm Data Visualitation, Etc"
   ]
  },
  {
   "cell_type": "markdown",
   "id": "8a24892f-0a58-47bf-967a-14c51451186f",
   "metadata": {},
   "source": [
    "## Install Package\n",
    "openpyxl package is for exporting data frame to another format"
   ]
  },
  {
   "cell_type": "code",
   "execution_count": 32,
   "id": "079bdb19-5520-44c5-b050-d4bf1d0a9cb6",
   "metadata": {
    "scrolled": true
   },
   "outputs": [
    {
     "name": "stdout",
     "output_type": "stream",
     "text": [
      "Defaulting to user installation because normal site-packages is not writeable\n",
      "Requirement already satisfied: pandas in /home/hnzbyte/.local/lib/python3.11/site-packages (2.0.1)\n",
      "Collecting openpyxl\n",
      "  Downloading openpyxl-3.1.2-py2.py3-none-any.whl (249 kB)\n",
      "\u001b[2K     \u001b[38;2;114;156;31m━━━━━━━━━━━━━━━━━━━━━━━━━━━━━━━━━━━━━\u001b[0m \u001b[32m250.0/250.0 kB\u001b[0m \u001b[31m634.2 kB/s\u001b[0m eta \u001b[36m0:00:00\u001b[0m[36m0:00:01\u001b[0m[36m0:00:01\u001b[0m:01\u001b[0m\n",
      "\u001b[?25hRequirement already satisfied: python-dateutil>=2.8.2 in /home/hnzbyte/.local/lib/python3.11/site-packages (from pandas) (2.8.2)\n",
      "Requirement already satisfied: pytz>=2020.1 in /home/hnzbyte/.local/lib/python3.11/site-packages (from pandas) (2023.3)\n",
      "Requirement already satisfied: tzdata>=2022.1 in /home/hnzbyte/.local/lib/python3.11/site-packages (from pandas) (2023.3)\n",
      "Requirement already satisfied: numpy>=1.21.0 in /home/hnzbyte/.local/lib/python3.11/site-packages (from pandas) (1.24.3)\n",
      "Collecting et-xmlfile (from openpyxl)\n",
      "  Downloading et_xmlfile-1.1.0-py3-none-any.whl (4.7 kB)\n",
      "Requirement already satisfied: six>=1.5 in /usr/lib/python3.11/site-packages (from python-dateutil>=2.8.2->pandas) (1.16.0)\n",
      "Installing collected packages: et-xmlfile, openpyxl\n",
      "Successfully installed et-xmlfile-1.1.0 openpyxl-3.1.2\n",
      "Note: you may need to restart the kernel to use updated packages.\n"
     ]
    }
   ],
   "source": [
    "pip install pandas openpyxl"
   ]
  },
  {
   "cell_type": "markdown",
   "id": "45fdab8e-359d-429f-8abc-470cb3c3191a",
   "metadata": {},
   "source": [
    "## Import pandas library"
   ]
  },
  {
   "cell_type": "code",
   "execution_count": 9,
   "id": "a8363657-378a-44fc-bb4e-928b9c1790e6",
   "metadata": {},
   "outputs": [],
   "source": [
    "import pandas as pd"
   ]
  },
  {
   "cell_type": "markdown",
   "id": "4730d595-148f-4982-a959-485a8785fcc0",
   "metadata": {},
   "source": [
    "## Read and Make Data Frame from CSV file"
   ]
  },
  {
   "cell_type": "code",
   "execution_count": 11,
   "id": "a491ee64-49c1-43d1-b5ad-d52ca86552bb",
   "metadata": {},
   "outputs": [],
   "source": [
    "df = pd.read_csv(\"fruit_price.csv\")"
   ]
  },
  {
   "cell_type": "markdown",
   "id": "c4875aac-2658-426e-ad00-20424d65470a",
   "metadata": {},
   "source": [
    "## Show Dataframe"
   ]
  },
  {
   "cell_type": "markdown",
   "id": "082749fa-21ec-4266-be3c-d5e56a3f607f",
   "metadata": {},
   "source": [
    "Dataframe is 2 dimentional array that contain row and column. Its similar like Spreadsheet, SQL table."
   ]
  },
  {
   "cell_type": "code",
   "execution_count": 12,
   "id": "08f4adb5-28f0-44cd-b0fc-d50929e14b74",
   "metadata": {},
   "outputs": [
    {
     "data": {
      "text/html": [
       "<div>\n",
       "<style scoped>\n",
       "    .dataframe tbody tr th:only-of-type {\n",
       "        vertical-align: middle;\n",
       "    }\n",
       "\n",
       "    .dataframe tbody tr th {\n",
       "        vertical-align: top;\n",
       "    }\n",
       "\n",
       "    .dataframe thead th {\n",
       "        text-align: right;\n",
       "    }\n",
       "</style>\n",
       "<table border=\"1\" class=\"dataframe\">\n",
       "  <thead>\n",
       "    <tr style=\"text-align: right;\">\n",
       "      <th></th>\n",
       "      <th>Fruit</th>\n",
       "      <th>Form</th>\n",
       "      <th>RetailPrice</th>\n",
       "      <th>RetailPriceUnit</th>\n",
       "      <th>Yield</th>\n",
       "      <th>CupEquivalentSize</th>\n",
       "      <th>CupEquivalentUnit</th>\n",
       "      <th>CupEquivalentPrice</th>\n",
       "    </tr>\n",
       "  </thead>\n",
       "  <tbody>\n",
       "    <tr>\n",
       "      <th>0</th>\n",
       "      <td>Apples</td>\n",
       "      <td>Fresh</td>\n",
       "      <td>1.5193</td>\n",
       "      <td>per pound</td>\n",
       "      <td>0.90</td>\n",
       "      <td>0.2425</td>\n",
       "      <td>pounds</td>\n",
       "      <td>0.4094</td>\n",
       "    </tr>\n",
       "    <tr>\n",
       "      <th>1</th>\n",
       "      <td>Apples, applesauce</td>\n",
       "      <td>Canned</td>\n",
       "      <td>1.0660</td>\n",
       "      <td>per pound</td>\n",
       "      <td>1.00</td>\n",
       "      <td>0.5401</td>\n",
       "      <td>pounds</td>\n",
       "      <td>0.5758</td>\n",
       "    </tr>\n",
       "    <tr>\n",
       "      <th>2</th>\n",
       "      <td>Apples, ready-to-drink</td>\n",
       "      <td>Juice</td>\n",
       "      <td>0.7804</td>\n",
       "      <td>per pint</td>\n",
       "      <td>1.00</td>\n",
       "      <td>8.0000</td>\n",
       "      <td>fluid ounces</td>\n",
       "      <td>0.3902</td>\n",
       "    </tr>\n",
       "    <tr>\n",
       "      <th>3</th>\n",
       "      <td>Apples, frozen concentrate</td>\n",
       "      <td>Juice</td>\n",
       "      <td>0.5853</td>\n",
       "      <td>per pint</td>\n",
       "      <td>1.00</td>\n",
       "      <td>8.0000</td>\n",
       "      <td>fluid ounces</td>\n",
       "      <td>0.2926</td>\n",
       "    </tr>\n",
       "    <tr>\n",
       "      <th>4</th>\n",
       "      <td>Apricots</td>\n",
       "      <td>Fresh</td>\n",
       "      <td>2.9665</td>\n",
       "      <td>per pound</td>\n",
       "      <td>0.93</td>\n",
       "      <td>0.3638</td>\n",
       "      <td>pounds</td>\n",
       "      <td>1.1603</td>\n",
       "    </tr>\n",
       "    <tr>\n",
       "      <th>...</th>\n",
       "      <td>...</td>\n",
       "      <td>...</td>\n",
       "      <td>...</td>\n",
       "      <td>...</td>\n",
       "      <td>...</td>\n",
       "      <td>...</td>\n",
       "      <td>...</td>\n",
       "      <td>...</td>\n",
       "    </tr>\n",
       "    <tr>\n",
       "      <th>57</th>\n",
       "      <td>Raspberries</td>\n",
       "      <td>Fresh</td>\n",
       "      <td>6.6391</td>\n",
       "      <td>per pound</td>\n",
       "      <td>0.96</td>\n",
       "      <td>0.3197</td>\n",
       "      <td>pounds</td>\n",
       "      <td>2.2107</td>\n",
       "    </tr>\n",
       "    <tr>\n",
       "      <th>58</th>\n",
       "      <td>Raspberries</td>\n",
       "      <td>Frozen</td>\n",
       "      <td>4.1877</td>\n",
       "      <td>per pound</td>\n",
       "      <td>1.00</td>\n",
       "      <td>0.3307</td>\n",
       "      <td>pounds</td>\n",
       "      <td>1.3849</td>\n",
       "    </tr>\n",
       "    <tr>\n",
       "      <th>59</th>\n",
       "      <td>Strawberries</td>\n",
       "      <td>Fresh</td>\n",
       "      <td>2.5800</td>\n",
       "      <td>per pound</td>\n",
       "      <td>0.94</td>\n",
       "      <td>0.3197</td>\n",
       "      <td>pounds</td>\n",
       "      <td>0.8774</td>\n",
       "    </tr>\n",
       "    <tr>\n",
       "      <th>60</th>\n",
       "      <td>Strawberries</td>\n",
       "      <td>Frozen</td>\n",
       "      <td>2.8189</td>\n",
       "      <td>per pound</td>\n",
       "      <td>1.00</td>\n",
       "      <td>0.3307</td>\n",
       "      <td>pounds</td>\n",
       "      <td>0.9322</td>\n",
       "    </tr>\n",
       "    <tr>\n",
       "      <th>61</th>\n",
       "      <td>Watermelon</td>\n",
       "      <td>Fresh</td>\n",
       "      <td>0.3604</td>\n",
       "      <td>per pound</td>\n",
       "      <td>0.52</td>\n",
       "      <td>0.3307</td>\n",
       "      <td>pounds</td>\n",
       "      <td>0.2292</td>\n",
       "    </tr>\n",
       "  </tbody>\n",
       "</table>\n",
       "<p>62 rows × 8 columns</p>\n",
       "</div>"
      ],
      "text/plain": [
       "                         Fruit    Form  RetailPrice RetailPriceUnit  Yield   \n",
       "0                       Apples   Fresh       1.5193       per pound   0.90  \\\n",
       "1           Apples, applesauce  Canned       1.0660       per pound   1.00   \n",
       "2       Apples, ready-to-drink   Juice       0.7804        per pint   1.00   \n",
       "3   Apples, frozen concentrate   Juice       0.5853        per pint   1.00   \n",
       "4                     Apricots   Fresh       2.9665       per pound   0.93   \n",
       "..                         ...     ...          ...             ...    ...   \n",
       "57                 Raspberries   Fresh       6.6391       per pound   0.96   \n",
       "58                 Raspberries  Frozen       4.1877       per pound   1.00   \n",
       "59                Strawberries   Fresh       2.5800       per pound   0.94   \n",
       "60                Strawberries  Frozen       2.8189       per pound   1.00   \n",
       "61                  Watermelon   Fresh       0.3604       per pound   0.52   \n",
       "\n",
       "    CupEquivalentSize CupEquivalentUnit  CupEquivalentPrice  \n",
       "0              0.2425            pounds              0.4094  \n",
       "1              0.5401            pounds              0.5758  \n",
       "2              8.0000      fluid ounces              0.3902  \n",
       "3              8.0000      fluid ounces              0.2926  \n",
       "4              0.3638            pounds              1.1603  \n",
       "..                ...               ...                 ...  \n",
       "57             0.3197            pounds              2.2107  \n",
       "58             0.3307            pounds              1.3849  \n",
       "59             0.3197            pounds              0.8774  \n",
       "60             0.3307            pounds              0.9322  \n",
       "61             0.3307            pounds              0.2292  \n",
       "\n",
       "[62 rows x 8 columns]"
      ]
     },
     "execution_count": 12,
     "metadata": {},
     "output_type": "execute_result"
    }
   ],
   "source": [
    "df"
   ]
  },
  {
   "cell_type": "markdown",
   "id": "72984988-59b2-423f-a8d3-98a7ca6dfe37",
   "metadata": {},
   "source": [
    "## Show Column/Series in Dataframe"
   ]
  },
  {
   "cell_type": "markdown",
   "id": "a1ca7e18-ee4f-428c-a1db-5b2f8d5ef163",
   "metadata": {},
   "source": [
    "Series is like traditional array in pandas, but with more powerfull features!"
   ]
  },
  {
   "cell_type": "code",
   "execution_count": 14,
   "id": "b26761bc-7a5c-46b7-9b62-d8c1fbd5d4d0",
   "metadata": {},
   "outputs": [
    {
     "data": {
      "text/plain": [
       "0                         Apples\n",
       "1             Apples, applesauce\n",
       "2         Apples, ready-to-drink\n",
       "3     Apples, frozen concentrate\n",
       "4                       Apricots\n",
       "                 ...            \n",
       "57                   Raspberries\n",
       "58                   Raspberries\n",
       "59                  Strawberries\n",
       "60                  Strawberries\n",
       "61                    Watermelon\n",
       "Name: Fruit, Length: 62, dtype: object"
      ]
     },
     "execution_count": 14,
     "metadata": {},
     "output_type": "execute_result"
    }
   ],
   "source": [
    "df[\"Fruit\"]"
   ]
  },
  {
   "cell_type": "markdown",
   "id": "2dc96be4-4baf-4335-b914-37363defd431",
   "metadata": {},
   "source": [
    "## Do Something with DataFrame\n",
    "suppose we wanna know the highest fruit price, we can do this with selecting `RetailPrice` column and use `max()`"
   ]
  },
  {
   "cell_type": "code",
   "execution_count": 23,
   "id": "2b8d731c-3cb0-4e37-9c4f-e4416455ac04",
   "metadata": {},
   "outputs": [
    {
     "data": {
      "text/plain": [
       "10.5527"
      ]
     },
     "execution_count": 23,
     "metadata": {},
     "output_type": "execute_result"
    }
   ],
   "source": [
    "df[\"RetailPrice\"].max()"
   ]
  },
  {
   "cell_type": "markdown",
   "id": "2992faeb-9847-45c2-b380-c0d58b44f412",
   "metadata": {},
   "source": [
    "show some statistical numeric summary of DataFrame with `describe()`"
   ]
  },
  {
   "cell_type": "code",
   "execution_count": 26,
   "id": "64203bd2-87b7-4ba4-b917-5480de848a41",
   "metadata": {},
   "outputs": [
    {
     "data": {
      "text/html": [
       "<div>\n",
       "<style scoped>\n",
       "    .dataframe tbody tr th:only-of-type {\n",
       "        vertical-align: middle;\n",
       "    }\n",
       "\n",
       "    .dataframe tbody tr th {\n",
       "        vertical-align: top;\n",
       "    }\n",
       "\n",
       "    .dataframe thead th {\n",
       "        text-align: right;\n",
       "    }\n",
       "</style>\n",
       "<table border=\"1\" class=\"dataframe\">\n",
       "  <thead>\n",
       "    <tr style=\"text-align: right;\">\n",
       "      <th></th>\n",
       "      <th>RetailPrice</th>\n",
       "      <th>Yield</th>\n",
       "      <th>CupEquivalentSize</th>\n",
       "      <th>CupEquivalentPrice</th>\n",
       "    </tr>\n",
       "  </thead>\n",
       "  <tbody>\n",
       "    <tr>\n",
       "      <th>count</th>\n",
       "      <td>62.000000</td>\n",
       "      <td>62.000000</td>\n",
       "      <td>62.000000</td>\n",
       "      <td>62.000000</td>\n",
       "    </tr>\n",
       "    <tr>\n",
       "      <th>mean</th>\n",
       "      <td>2.616050</td>\n",
       "      <td>0.876129</td>\n",
       "      <td>1.704984</td>\n",
       "      <td>0.919740</td>\n",
       "    </tr>\n",
       "    <tr>\n",
       "      <th>std</th>\n",
       "      <td>2.068129</td>\n",
       "      <td>0.174979</td>\n",
       "      <td>2.949262</td>\n",
       "      <td>0.491960</td>\n",
       "    </tr>\n",
       "    <tr>\n",
       "      <th>min</th>\n",
       "      <td>0.360400</td>\n",
       "      <td>0.460000</td>\n",
       "      <td>0.123200</td>\n",
       "      <td>0.229200</td>\n",
       "    </tr>\n",
       "    <tr>\n",
       "      <th>25%</th>\n",
       "      <td>1.155850</td>\n",
       "      <td>0.722500</td>\n",
       "      <td>0.322450</td>\n",
       "      <td>0.579300</td>\n",
       "    </tr>\n",
       "    <tr>\n",
       "      <th>50%</th>\n",
       "      <td>1.868400</td>\n",
       "      <td>0.980000</td>\n",
       "      <td>0.363800</td>\n",
       "      <td>0.895250</td>\n",
       "    </tr>\n",
       "    <tr>\n",
       "      <th>75%</th>\n",
       "      <td>3.525600</td>\n",
       "      <td>1.000000</td>\n",
       "      <td>0.540100</td>\n",
       "      <td>1.150475</td>\n",
       "    </tr>\n",
       "    <tr>\n",
       "      <th>max</th>\n",
       "      <td>10.552700</td>\n",
       "      <td>1.000000</td>\n",
       "      <td>8.000000</td>\n",
       "      <td>3.070000</td>\n",
       "    </tr>\n",
       "  </tbody>\n",
       "</table>\n",
       "</div>"
      ],
      "text/plain": [
       "       RetailPrice      Yield  CupEquivalentSize  CupEquivalentPrice\n",
       "count    62.000000  62.000000          62.000000           62.000000\n",
       "mean      2.616050   0.876129           1.704984            0.919740\n",
       "std       2.068129   0.174979           2.949262            0.491960\n",
       "min       0.360400   0.460000           0.123200            0.229200\n",
       "25%       1.155850   0.722500           0.322450            0.579300\n",
       "50%       1.868400   0.980000           0.363800            0.895250\n",
       "75%       3.525600   1.000000           0.540100            1.150475\n",
       "max      10.552700   1.000000           8.000000            3.070000"
      ]
     },
     "execution_count": 26,
     "metadata": {},
     "output_type": "execute_result"
    }
   ],
   "source": [
    "df.describe()"
   ]
  },
  {
   "cell_type": "markdown",
   "id": "4987eee2-76fa-45f9-bbf0-8f69a3dd8ed5",
   "metadata": {},
   "source": [
    "## See First `n` Column of Pandas DataFrame"
   ]
  },
  {
   "cell_type": "code",
   "execution_count": 27,
   "id": "f982ef96-a1cd-49b4-96c4-d88782a53922",
   "metadata": {},
   "outputs": [
    {
     "data": {
      "text/html": [
       "<div>\n",
       "<style scoped>\n",
       "    .dataframe tbody tr th:only-of-type {\n",
       "        vertical-align: middle;\n",
       "    }\n",
       "\n",
       "    .dataframe tbody tr th {\n",
       "        vertical-align: top;\n",
       "    }\n",
       "\n",
       "    .dataframe thead th {\n",
       "        text-align: right;\n",
       "    }\n",
       "</style>\n",
       "<table border=\"1\" class=\"dataframe\">\n",
       "  <thead>\n",
       "    <tr style=\"text-align: right;\">\n",
       "      <th></th>\n",
       "      <th>Fruit</th>\n",
       "      <th>Form</th>\n",
       "      <th>RetailPrice</th>\n",
       "      <th>RetailPriceUnit</th>\n",
       "      <th>Yield</th>\n",
       "      <th>CupEquivalentSize</th>\n",
       "      <th>CupEquivalentUnit</th>\n",
       "      <th>CupEquivalentPrice</th>\n",
       "    </tr>\n",
       "  </thead>\n",
       "  <tbody>\n",
       "    <tr>\n",
       "      <th>0</th>\n",
       "      <td>Apples</td>\n",
       "      <td>Fresh</td>\n",
       "      <td>1.5193</td>\n",
       "      <td>per pound</td>\n",
       "      <td>0.90</td>\n",
       "      <td>0.2425</td>\n",
       "      <td>pounds</td>\n",
       "      <td>0.4094</td>\n",
       "    </tr>\n",
       "    <tr>\n",
       "      <th>1</th>\n",
       "      <td>Apples, applesauce</td>\n",
       "      <td>Canned</td>\n",
       "      <td>1.0660</td>\n",
       "      <td>per pound</td>\n",
       "      <td>1.00</td>\n",
       "      <td>0.5401</td>\n",
       "      <td>pounds</td>\n",
       "      <td>0.5758</td>\n",
       "    </tr>\n",
       "    <tr>\n",
       "      <th>2</th>\n",
       "      <td>Apples, ready-to-drink</td>\n",
       "      <td>Juice</td>\n",
       "      <td>0.7804</td>\n",
       "      <td>per pint</td>\n",
       "      <td>1.00</td>\n",
       "      <td>8.0000</td>\n",
       "      <td>fluid ounces</td>\n",
       "      <td>0.3902</td>\n",
       "    </tr>\n",
       "    <tr>\n",
       "      <th>3</th>\n",
       "      <td>Apples, frozen concentrate</td>\n",
       "      <td>Juice</td>\n",
       "      <td>0.5853</td>\n",
       "      <td>per pint</td>\n",
       "      <td>1.00</td>\n",
       "      <td>8.0000</td>\n",
       "      <td>fluid ounces</td>\n",
       "      <td>0.2926</td>\n",
       "    </tr>\n",
       "    <tr>\n",
       "      <th>4</th>\n",
       "      <td>Apricots</td>\n",
       "      <td>Fresh</td>\n",
       "      <td>2.9665</td>\n",
       "      <td>per pound</td>\n",
       "      <td>0.93</td>\n",
       "      <td>0.3638</td>\n",
       "      <td>pounds</td>\n",
       "      <td>1.1603</td>\n",
       "    </tr>\n",
       "    <tr>\n",
       "      <th>5</th>\n",
       "      <td>Apricots, packed in juice</td>\n",
       "      <td>Canned</td>\n",
       "      <td>1.6905</td>\n",
       "      <td>per pound</td>\n",
       "      <td>1.00</td>\n",
       "      <td>0.5401</td>\n",
       "      <td>pounds</td>\n",
       "      <td>0.9131</td>\n",
       "    </tr>\n",
       "    <tr>\n",
       "      <th>6</th>\n",
       "      <td>Apricots, packed in syrup or water</td>\n",
       "      <td>Canned</td>\n",
       "      <td>2.0600</td>\n",
       "      <td>per pound</td>\n",
       "      <td>0.65</td>\n",
       "      <td>0.4409</td>\n",
       "      <td>pounds</td>\n",
       "      <td>1.3974</td>\n",
       "    </tr>\n",
       "    <tr>\n",
       "      <th>7</th>\n",
       "      <td>Apricots</td>\n",
       "      <td>Dried</td>\n",
       "      <td>6.6188</td>\n",
       "      <td>per pound</td>\n",
       "      <td>1.00</td>\n",
       "      <td>0.1433</td>\n",
       "      <td>pounds</td>\n",
       "      <td>0.9485</td>\n",
       "    </tr>\n",
       "  </tbody>\n",
       "</table>\n",
       "</div>"
      ],
      "text/plain": [
       "                                Fruit    Form  RetailPrice RetailPriceUnit   \n",
       "0                              Apples   Fresh       1.5193       per pound  \\\n",
       "1                  Apples, applesauce  Canned       1.0660       per pound   \n",
       "2              Apples, ready-to-drink   Juice       0.7804        per pint   \n",
       "3          Apples, frozen concentrate   Juice       0.5853        per pint   \n",
       "4                            Apricots   Fresh       2.9665       per pound   \n",
       "5           Apricots, packed in juice  Canned       1.6905       per pound   \n",
       "6  Apricots, packed in syrup or water  Canned       2.0600       per pound   \n",
       "7                            Apricots   Dried       6.6188       per pound   \n",
       "\n",
       "   Yield  CupEquivalentSize CupEquivalentUnit  CupEquivalentPrice  \n",
       "0   0.90             0.2425            pounds              0.4094  \n",
       "1   1.00             0.5401            pounds              0.5758  \n",
       "2   1.00             8.0000      fluid ounces              0.3902  \n",
       "3   1.00             8.0000      fluid ounces              0.2926  \n",
       "4   0.93             0.3638            pounds              1.1603  \n",
       "5   1.00             0.5401            pounds              0.9131  \n",
       "6   0.65             0.4409            pounds              1.3974  \n",
       "7   1.00             0.1433            pounds              0.9485  "
      ]
     },
     "execution_count": 27,
     "metadata": {},
     "output_type": "execute_result"
    }
   ],
   "source": [
    "df.head(8)"
   ]
  },
  {
   "cell_type": "markdown",
   "id": "1c1847b8-3bc0-4927-bd04-5781ac94a923",
   "metadata": {},
   "source": [
    "## See Last `n` Column of Pandas DataFrame"
   ]
  },
  {
   "cell_type": "code",
   "execution_count": 28,
   "id": "e8e426ec-3cf5-41e8-a901-9b6faccbec10",
   "metadata": {},
   "outputs": [
    {
     "data": {
      "text/html": [
       "<div>\n",
       "<style scoped>\n",
       "    .dataframe tbody tr th:only-of-type {\n",
       "        vertical-align: middle;\n",
       "    }\n",
       "\n",
       "    .dataframe tbody tr th {\n",
       "        vertical-align: top;\n",
       "    }\n",
       "\n",
       "    .dataframe thead th {\n",
       "        text-align: right;\n",
       "    }\n",
       "</style>\n",
       "<table border=\"1\" class=\"dataframe\">\n",
       "  <thead>\n",
       "    <tr style=\"text-align: right;\">\n",
       "      <th></th>\n",
       "      <th>Fruit</th>\n",
       "      <th>Form</th>\n",
       "      <th>RetailPrice</th>\n",
       "      <th>RetailPriceUnit</th>\n",
       "      <th>Yield</th>\n",
       "      <th>CupEquivalentSize</th>\n",
       "      <th>CupEquivalentUnit</th>\n",
       "      <th>CupEquivalentPrice</th>\n",
       "    </tr>\n",
       "  </thead>\n",
       "  <tbody>\n",
       "    <tr>\n",
       "      <th>58</th>\n",
       "      <td>Raspberries</td>\n",
       "      <td>Frozen</td>\n",
       "      <td>4.1877</td>\n",
       "      <td>per pound</td>\n",
       "      <td>1.00</td>\n",
       "      <td>0.3307</td>\n",
       "      <td>pounds</td>\n",
       "      <td>1.3849</td>\n",
       "    </tr>\n",
       "    <tr>\n",
       "      <th>59</th>\n",
       "      <td>Strawberries</td>\n",
       "      <td>Fresh</td>\n",
       "      <td>2.5800</td>\n",
       "      <td>per pound</td>\n",
       "      <td>0.94</td>\n",
       "      <td>0.3197</td>\n",
       "      <td>pounds</td>\n",
       "      <td>0.8774</td>\n",
       "    </tr>\n",
       "    <tr>\n",
       "      <th>60</th>\n",
       "      <td>Strawberries</td>\n",
       "      <td>Frozen</td>\n",
       "      <td>2.8189</td>\n",
       "      <td>per pound</td>\n",
       "      <td>1.00</td>\n",
       "      <td>0.3307</td>\n",
       "      <td>pounds</td>\n",
       "      <td>0.9322</td>\n",
       "    </tr>\n",
       "    <tr>\n",
       "      <th>61</th>\n",
       "      <td>Watermelon</td>\n",
       "      <td>Fresh</td>\n",
       "      <td>0.3604</td>\n",
       "      <td>per pound</td>\n",
       "      <td>0.52</td>\n",
       "      <td>0.3307</td>\n",
       "      <td>pounds</td>\n",
       "      <td>0.2292</td>\n",
       "    </tr>\n",
       "  </tbody>\n",
       "</table>\n",
       "</div>"
      ],
      "text/plain": [
       "           Fruit    Form  RetailPrice RetailPriceUnit  Yield   \n",
       "58   Raspberries  Frozen       4.1877       per pound   1.00  \\\n",
       "59  Strawberries   Fresh       2.5800       per pound   0.94   \n",
       "60  Strawberries  Frozen       2.8189       per pound   1.00   \n",
       "61    Watermelon   Fresh       0.3604       per pound   0.52   \n",
       "\n",
       "    CupEquivalentSize CupEquivalentUnit  CupEquivalentPrice  \n",
       "58             0.3307            pounds              1.3849  \n",
       "59             0.3197            pounds              0.8774  \n",
       "60             0.3307            pounds              0.9322  \n",
       "61             0.3307            pounds              0.2292  "
      ]
     },
     "execution_count": 28,
     "metadata": {},
     "output_type": "execute_result"
    }
   ],
   "source": [
    "df.tail(4)"
   ]
  },
  {
   "cell_type": "markdown",
   "id": "de95457a-c598-4040-b176-e71494a93c14",
   "metadata": {},
   "source": [
    "## See data types each column"
   ]
  },
  {
   "cell_type": "code",
   "execution_count": 30,
   "id": "eb975e99-ec00-4656-9b12-ba1636bcd5a6",
   "metadata": {},
   "outputs": [
    {
     "data": {
      "text/plain": [
       "Fruit                  object\n",
       "Form                   object\n",
       "RetailPrice           float64\n",
       "RetailPriceUnit        object\n",
       "Yield                 float64\n",
       "CupEquivalentSize     float64\n",
       "CupEquivalentUnit      object\n",
       "CupEquivalentPrice    float64\n",
       "dtype: object"
      ]
     },
     "execution_count": 30,
     "metadata": {},
     "output_type": "execute_result"
    }
   ],
   "source": [
    "df.dtypes"
   ]
  },
  {
   "cell_type": "markdown",
   "id": "0d634d84-cddb-4be1-b892-f3cb4b530fd0",
   "metadata": {},
   "source": [
    "## Export Data to Another Format"
   ]
  },
  {
   "cell_type": "code",
   "execution_count": 33,
   "id": "154eb8fb-cea8-4835-9eb2-c9c6ac6d0e60",
   "metadata": {},
   "outputs": [],
   "source": [
    "df.to_excel(\"fruit_price.xlsx\", sheet_name=\"fruitList\")"
   ]
  },
  {
   "cell_type": "markdown",
   "id": "ce9589dc-91b9-45b4-a181-2c3735dff804",
   "metadata": {},
   "source": [
    "read from exported excel data"
   ]
  },
  {
   "cell_type": "code",
   "execution_count": 34,
   "id": "a7e80fd3-9a4c-4563-ad21-a136aaeea6a4",
   "metadata": {},
   "outputs": [
    {
     "data": {
      "text/html": [
       "<div>\n",
       "<style scoped>\n",
       "    .dataframe tbody tr th:only-of-type {\n",
       "        vertical-align: middle;\n",
       "    }\n",
       "\n",
       "    .dataframe tbody tr th {\n",
       "        vertical-align: top;\n",
       "    }\n",
       "\n",
       "    .dataframe thead th {\n",
       "        text-align: right;\n",
       "    }\n",
       "</style>\n",
       "<table border=\"1\" class=\"dataframe\">\n",
       "  <thead>\n",
       "    <tr style=\"text-align: right;\">\n",
       "      <th></th>\n",
       "      <th>Unnamed: 0</th>\n",
       "      <th>Fruit</th>\n",
       "      <th>Form</th>\n",
       "      <th>RetailPrice</th>\n",
       "      <th>RetailPriceUnit</th>\n",
       "      <th>Yield</th>\n",
       "      <th>CupEquivalentSize</th>\n",
       "      <th>CupEquivalentUnit</th>\n",
       "      <th>CupEquivalentPrice</th>\n",
       "    </tr>\n",
       "  </thead>\n",
       "  <tbody>\n",
       "    <tr>\n",
       "      <th>0</th>\n",
       "      <td>0</td>\n",
       "      <td>Apples</td>\n",
       "      <td>Fresh</td>\n",
       "      <td>1.5193</td>\n",
       "      <td>per pound</td>\n",
       "      <td>0.9</td>\n",
       "      <td>0.2425</td>\n",
       "      <td>pounds</td>\n",
       "      <td>0.4094</td>\n",
       "    </tr>\n",
       "    <tr>\n",
       "      <th>1</th>\n",
       "      <td>1</td>\n",
       "      <td>Apples, applesauce</td>\n",
       "      <td>Canned</td>\n",
       "      <td>1.0660</td>\n",
       "      <td>per pound</td>\n",
       "      <td>1.0</td>\n",
       "      <td>0.5401</td>\n",
       "      <td>pounds</td>\n",
       "      <td>0.5758</td>\n",
       "    </tr>\n",
       "    <tr>\n",
       "      <th>2</th>\n",
       "      <td>2</td>\n",
       "      <td>Apples, ready-to-drink</td>\n",
       "      <td>Juice</td>\n",
       "      <td>0.7804</td>\n",
       "      <td>per pint</td>\n",
       "      <td>1.0</td>\n",
       "      <td>8.0000</td>\n",
       "      <td>fluid ounces</td>\n",
       "      <td>0.3902</td>\n",
       "    </tr>\n",
       "  </tbody>\n",
       "</table>\n",
       "</div>"
      ],
      "text/plain": [
       "   Unnamed: 0                   Fruit    Form  RetailPrice RetailPriceUnit   \n",
       "0           0                  Apples   Fresh       1.5193       per pound  \\\n",
       "1           1      Apples, applesauce  Canned       1.0660       per pound   \n",
       "2           2  Apples, ready-to-drink   Juice       0.7804        per pint   \n",
       "\n",
       "   Yield  CupEquivalentSize CupEquivalentUnit  CupEquivalentPrice  \n",
       "0    0.9             0.2425            pounds              0.4094  \n",
       "1    1.0             0.5401            pounds              0.5758  \n",
       "2    1.0             8.0000      fluid ounces              0.3902  "
      ]
     },
     "execution_count": 34,
     "metadata": {},
     "output_type": "execute_result"
    }
   ],
   "source": [
    "excel_fruit = pd.read_excel(\"fruit_price.xlsx\", sheet_name=\"fruitList\")\n",
    "excel_fruit.head(3)"
   ]
  },
  {
   "cell_type": "markdown",
   "id": "fa9e870f-5df5-4043-b1f6-f2b55f98b63a",
   "metadata": {},
   "source": [
    "## See Technical Summary of Pandas DataFrame"
   ]
  },
  {
   "cell_type": "code",
   "execution_count": 36,
   "id": "5e0b292b-42c1-4738-b738-024e7ccd2d6b",
   "metadata": {},
   "outputs": [
    {
     "name": "stdout",
     "output_type": "stream",
     "text": [
      "<class 'pandas.core.frame.DataFrame'>\n",
      "RangeIndex: 62 entries, 0 to 61\n",
      "Data columns (total 8 columns):\n",
      " #   Column              Non-Null Count  Dtype  \n",
      "---  ------              --------------  -----  \n",
      " 0   Fruit               62 non-null     object \n",
      " 1   Form                62 non-null     object \n",
      " 2   RetailPrice         62 non-null     float64\n",
      " 3   RetailPriceUnit     62 non-null     object \n",
      " 4   Yield               62 non-null     float64\n",
      " 5   CupEquivalentSize   62 non-null     float64\n",
      " 6   CupEquivalentUnit   62 non-null     object \n",
      " 7   CupEquivalentPrice  62 non-null     float64\n",
      "dtypes: float64(4), object(4)\n",
      "memory usage: 4.0+ KB\n"
     ]
    }
   ],
   "source": [
    "df.info()"
   ]
  },
  {
   "cell_type": "markdown",
   "id": "7222ef1b-b9e8-4543-9955-c5bf02aa926e",
   "metadata": {},
   "source": [
    "### Note\n",
    "The head/tail/info methods and the dtypes attribute are convenient for a first check."
   ]
  },
  {
   "cell_type": "code",
   "execution_count": null,
   "id": "0eaabdfd-e41b-439f-b049-fd27f4f680a5",
   "metadata": {},
   "outputs": [],
   "source": []
  }
 ],
 "metadata": {
  "kernelspec": {
   "display_name": "Python 3 (ipykernel)",
   "language": "python",
   "name": "python3"
  },
  "language_info": {
   "codemirror_mode": {
    "name": "ipython",
    "version": 3
   },
   "file_extension": ".py",
   "mimetype": "text/x-python",
   "name": "python",
   "nbconvert_exporter": "python",
   "pygments_lexer": "ipython3",
   "version": "3.11.3"
  }
 },
 "nbformat": 4,
 "nbformat_minor": 5
}
